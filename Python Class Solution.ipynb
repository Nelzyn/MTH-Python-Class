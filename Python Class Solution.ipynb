{
 "cells": [
  {
   "cell_type": "markdown",
   "metadata": {},
   "source": [
    "# Python Basics (Solution)"
   ]
  },
  {
   "cell_type": "markdown",
   "metadata": {},
   "source": [
    "## Activity"
   ]
  },
  {
   "cell_type": "markdown",
   "metadata": {},
   "source": [
    "Write some code that creates a list of integers, loops through each element of the list, and only prints out even numbers!"
   ]
  },
  {
   "cell_type": "code",
   "execution_count": 15,
   "metadata": {},
   "outputs": [
    {
     "name": "stdout",
     "output_type": "stream",
     "text": [
      "[25, 64, 38, 56, 88, 7, 33, 39, 89, 32, 80, 90, 5, 90, 45, 77, 47, 90, 14, 87]\n"
     ]
    }
   ],
   "source": [
    "import random\n",
    "listOfIntegers = []\n",
    "\n",
    "for i in range(20):\n",
    "    listOfIntegers.append(random.randint(1,100))\n",
    " \n",
    "    \n",
    "print(listOfIntegers)"
   ]
  },
  {
   "cell_type": "code",
   "execution_count": 23,
   "metadata": {},
   "outputs": [
    {
     "name": "stdout",
     "output_type": "stream",
     "text": [
      "{64, 33, 89, 32, 5, 38, 7, 39, 45, 77, 47, 80, 14, 87, 56, 25, 90, 88}\n"
     ]
    }
   ],
   "source": [
    "new_list = set(listOfIntegers)\n",
    "print(new_list)"
   ]
  },
  {
   "cell_type": "code",
   "execution_count": 24,
   "metadata": {},
   "outputs": [
    {
     "data": {
      "text/plain": [
       "set"
      ]
     },
     "execution_count": 24,
     "metadata": {},
     "output_type": "execute_result"
    }
   ],
   "source": [
    "type(new_list)"
   ]
  },
  {
   "cell_type": "code",
   "execution_count": 22,
   "metadata": {},
   "outputs": [
    {
     "name": "stdout",
     "output_type": "stream",
     "text": [
      "64 is even!\n",
      "32 is even!\n",
      "38 is even!\n",
      "80 is even!\n",
      "14 is even!\n",
      "56 is even!\n",
      "90 is even!\n",
      "88 is even!\n"
     ]
    }
   ],
   "source": [
    "for k in new_list:\n",
    "    if k%2 == 0:\n",
    "        print(str(k) + \" is even!\")\n",
    "    else:\n",
    "        pass"
   ]
  },
  {
   "cell_type": "code",
   "execution_count": null,
   "metadata": {},
   "outputs": [],
   "source": []
  },
  {
   "cell_type": "code",
   "execution_count": null,
   "metadata": {},
   "outputs": [],
   "source": []
  },
  {
   "cell_type": "code",
   "execution_count": null,
   "metadata": {},
   "outputs": [],
   "source": []
  }
 ],
 "metadata": {
  "kernelspec": {
   "display_name": "Python 3",
   "language": "python",
   "name": "python3"
  },
  "language_info": {
   "codemirror_mode": {
    "name": "ipython",
    "version": 3
   },
   "file_extension": ".py",
   "mimetype": "text/x-python",
   "name": "python",
   "nbconvert_exporter": "python",
   "pygments_lexer": "ipython3",
   "version": "3.7.4"
  }
 },
 "nbformat": 4,
 "nbformat_minor": 1
}
